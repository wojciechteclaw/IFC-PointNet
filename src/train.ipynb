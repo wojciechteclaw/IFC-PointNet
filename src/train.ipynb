{
 "cells": [
  {
   "cell_type": "markdown",
   "source": [
    "# Configure the environment"
   ],
   "metadata": {
    "collapsed": false
   }
  },
  {
   "cell_type": "markdown",
   "source": [
    "## Mount the Google Drive + setup ssh keys\n"
   ],
   "metadata": {
    "collapsed": false
   }
  },
  {
   "cell_type": "code",
   "execution_count": null,
   "outputs": [],
   "source": [
    "REPO_URL = \"git@github.com:wojciechteclaw/IFC-PointNet.git\""
   ],
   "metadata": {
    "collapsed": false
   }
  },
  {
   "cell_type": "code",
   "execution_count": null,
   "outputs": [],
   "source": [
    "from google.colab import drive\n",
    "\n",
    "drive.mount('/content/gdrive/')\n",
    "\n",
    "!mkdir /root/.ssh\n",
    "\n",
    "# copy to root/ssh\n",
    "!cp /content/gdrive/MyDrive/ssh_keys/id* /root/.ssh/\n",
    "\n",
    "# Add github as trusted\n",
    "!ssh-keyscan github.com >> /root/.ssh/known_hosts\n",
    "\n",
    "# test connection to github\n",
    "!ssh -T git@github.com"
   ],
   "metadata": {
    "collapsed": false,
    "pycharm": {
     "is_executing": true
    }
   }
  },
  {
   "cell_type": "markdown",
   "source": [
    "## Clone the repository"
   ],
   "metadata": {
    "collapsed": false
   }
  },
  {
   "cell_type": "code",
   "execution_count": null,
   "outputs": [],
   "source": [
    "## clone repo\n",
    "!git clone $REPO_URL\n",
    "\n",
    "# make src directory\n",
    "!mkdir src\n",
    "\n",
    "# copy data from project's src to colab's src dir\n",
    "!cp -r IFC-PointNet/src/* src/\n",
    "\n",
    "# remove original repo folder\n",
    "!rm -rf ./IFC-PointNet/"
   ],
   "metadata": {
    "collapsed": false
   }
  }
 ],
 "metadata": {
  "kernelspec": {
   "display_name": "Python 3",
   "language": "python",
   "name": "python3"
  },
  "language_info": {
   "codemirror_mode": {
    "name": "ipython",
    "version": 2
   },
   "file_extension": ".py",
   "mimetype": "text/x-python",
   "name": "python",
   "nbconvert_exporter": "python",
   "pygments_lexer": "ipython2",
   "version": "2.7.6"
  }
 },
 "nbformat": 4,
 "nbformat_minor": 0
}

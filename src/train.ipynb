{
 "cells": [
  {
   "cell_type": "markdown",
   "source": [
    "# Configure the environment"
   ],
   "metadata": {
    "collapsed": false
   }
  },
  {
   "cell_type": "markdown",
   "source": [
    "## Mount the Google Drive + setup ssh keys\n"
   ],
   "metadata": {
    "collapsed": false
   }
  },
  {
   "cell_type": "code",
   "execution_count": null,
   "outputs": [],
   "source": [
    "REPO_URL = \"git@github.com:wojciechteclaw/IFC-PointNet.git\"\n",
    "# Generate the key using ssh-keygen locally\n",
    "# Add to a selected folder of your google drive\n",
    "\n",
    "# GoogleDrive SSH folder name\n",
    "GDRIVE_DIR_NAME = \"ppp\"\n",
    "# Use deployment keys from your repo and add public key\n",
    "\n",
    "# PrivateKey file name\n",
    "KEY_NAME = \"pointnet\"\n",
    "\n",
    "config = f\"\"\"Host github.com\n",
    "    HostName github.com\n",
    "    User git\n",
    "    IdentityFile /root/.ssh/{KEY_NAME}\n",
    "    IdentitiesOnly yes\"\"\"\n",
    "\n",
    "from google.colab import drive\n",
    "\n",
    "drive.mount('/content/gdrive/', force_remount=True)\n",
    "\n",
    "!mkdir /root/.ssh\n",
    "\n",
    "# Copy to root/ssh\n",
    "!cp /content/gdrive/MyDrive/{GDRIVE_DIR_NAME}/* /root/.ssh/\n",
    "\n",
    "!echo '{config}' > /root/.ssh/config\n",
    "\n",
    "# Add github as trusted\n",
    "!ssh-keyscan github.com >> /root/.ssh/known_hosts\n",
    "\n",
    "# Test connection to github\n",
    "!ssh -T git@github.com\n",
    "\n",
    "# Clone repo\n",
    "!git clone $REPO_URL\n",
    "\n",
    "# Make src directory\n",
    "!mkdir src\n",
    "\n",
    "# Copy data from project's src to colab's src dir\n",
    "!cp -r IFC-PointNet/src/* src/\n",
    "\n",
    "# Remove original repo folder\n",
    "!rm -rf ./IFC-PointNet/"
   ],
   "metadata": {
    "collapsed": false
   }
  }
 ],
 "metadata": {
  "kernelspec": {
   "display_name": "Python 3",
   "language": "python",
   "name": "python3"
  },
  "language_info": {
   "codemirror_mode": {
    "name": "ipython",
    "version": 2
   },
   "file_extension": ".py",
   "mimetype": "text/x-python",
   "name": "python",
   "nbconvert_exporter": "python",
   "pygments_lexer": "ipython2",
   "version": "2.7.6"
  }
 },
 "nbformat": 4,
 "nbformat_minor": 0
}
